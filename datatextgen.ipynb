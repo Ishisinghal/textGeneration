{
 "cells": [
  {
   "cell_type": "code",
   "execution_count": null,
   "metadata": {},
   "outputs": [],
   "source": [
    "import pandas as pd\n",
    "import numpy as np\n",
    "import re\n",
    "\n",
    "df = pd.read_csv('wiki_movie_plots_deduped.csv')\n",
    "#df = df.loc[df.Title ==\"What the Daisy Said\"]\n",
    "df = df[['Plot']]\n",
    "#Don't match Initial. or Mr/Jr/.../\"...\" or Mrs/ie/eg AND \n",
    "#   don't match future punctuation (i.e. the first two dots in an ellipsis)\n",
    "filter_words_2 = ['Mr', 'Jr', 'Sr', 'Fr', 'Ms', 'Mz', 'Dr', 'St', 'Rd']\n",
    "filter_words_3 = ['Mrs', 'Rev', 'i\\.e', 'e\\.g', 'Ave', 'Cir', 'Crt']\n",
    "match_str = \"\"\"(?<!\\.)(?<![A-Z])(?<!\"\"\" + '|'.join(filter_words_2)+\"\"\")(?<!\"\"\" +\\\n",
    "    '|'.join(filter_words_3)+\"\"\")[\\.](?!([a-z]?\\.))\"\"\"\n",
    "min_sent = 5\n",
    "sents = df.Plot.str.replace(match_str,\".<SPLIT>\").tolist()\n",
    "sents = [re.sub(\"!\",\"!<SPLIT>\", x) for x in sents]\n",
    "sents = [re.sub(\"\\?\",\"?<SPLIT>\", x) for x in sents]\n",
    "sents = [x for y in [a.split('<SPLIT>') for a in sents] for x in y]\n",
    "#Match [#] or (_anything_)\n",
    "bracket_match = '(\\[[0-9]+\\])|(\\([^\\)]*\\))|(\\r)|(\\n)'\n",
    "sents = [re.sub(bracket_match,'',x) for x in sents]\n",
    "sents = [re.sub('\"\"',\"\",re.sub(' \\,', ',', x)) for x in sents]\n",
    "sents = [x.lstrip().rstrip() for x in sents if len(x) > min_sent]\n",
    "df_new = pd.DataFrame(sents, columns = ['Sentences'])\n",
    "\n",
    "df_new.to_csv(r'Sentences.txt', header=None, index=None, sep=' ', mode='w')"
   ]
  }
 ],
 "metadata": {
  "language_info": {
   "name": "python"
  },
  "orig_nbformat": 4
 },
 "nbformat": 4,
 "nbformat_minor": 2
}
